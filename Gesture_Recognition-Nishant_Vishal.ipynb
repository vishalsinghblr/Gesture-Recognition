{
 "cells": [
  {
   "cell_type": "markdown",
   "metadata": {},
   "source": [
    "# Gesture Recognition\n",
    "In this group project, you are going to build a 3D Conv model that will be able to predict the 5 gestures correctly. Please import the following libraries to get started."
   ]
  },
  {
   "cell_type": "code",
   "execution_count": 1,
   "metadata": {},
   "outputs": [],
   "source": [
    "import numpy as np\n",
    "import os\n",
    "#from scipy.misc import imread, imresize\n",
    "import imageio\n",
    "from skimage.transform import resize\n",
    "import datetime\n",
    "import matplotlib.pyplot as plt"
   ]
  },
  {
   "cell_type": "markdown",
   "metadata": {},
   "source": [
    "Note: \n",
    "1. Importing `imageio` library for `imread` as latest version of `scipy.misc` library does not have attribute `imread` or `imresize`\n",
    "2. Importing `skimage` library for using `resize` option for images "
   ]
  },
  {
   "cell_type": "markdown",
   "metadata": {},
   "source": [
    "We set the random seed so that the results don't vary drastically."
   ]
  },
  {
   "cell_type": "code",
   "execution_count": 2,
   "metadata": {},
   "outputs": [],
   "source": [
    "np.random.seed(30)\n",
    "import random as rn\n",
    "rn.seed(30)\n",
    "from tensorflow.keras import backend as K\n",
    "import tensorflow as tf\n",
    "tf.random.set_seed(30)"
   ]
  },
  {
   "cell_type": "markdown",
   "metadata": {},
   "source": [
    "In this block, you read the folder names for training and validation. You also set the `batch_size` here. Note that you set the batch size in such a way that you are able to use the GPU in full capacity. You keep increasing the batch size until the machine throws an error."
   ]
  },
  {
   "cell_type": "code",
   "execution_count": 3,
   "metadata": {},
   "outputs": [],
   "source": [
    "train_doc = np.random.permutation(open('D:/Project_data/train.csv').readlines())\n",
    "val_doc = np.random.permutation(open('D:/Project_data/val.csv').readlines())\n",
    "batch_size = 32"
   ]
  },
  {
   "cell_type": "markdown",
   "metadata": {},
   "source": [
    "## Generator\n",
    "This is one of the most important part of the code. The overall structure of the generator has been given. In the generator, you are going to preprocess the images as you have images of 2 different dimensions as well as create a batch of video frames. You have to experiment with `img_idx`, `y`,`z` and normalization such that you get high accuracy."
   ]
  },
  {
   "cell_type": "code",
   "execution_count": 4,
   "metadata": {},
   "outputs": [],
   "source": [
    "def generator(source_path, folder_list, batch_size):\n",
    "    print( 'Source path = ', source_path, '; batch size =', batch_size)\n",
    "    img_idx = [i*2 for i in range(15)]               #create a list of image numbers you want to use for a particular video\n",
    "    while True:\n",
    "        t = np.random.permutation(folder_list)\n",
    "        num_batches = len(folder_list)//batch_size   # calculate the number of batches\n",
    "        for batch in range(num_batches): # we iterate over the number of batches\n",
    "            x=len(img_idx)\n",
    "            batch_data = np.zeros((batch_size,x,50,50,3)) # x is the number of images you use for each video, (y,z) is the final size of the input images and 3 is the number of channels RGB\n",
    "            batch_labels = np.zeros((batch_size,5)) # batch_labels is the one hot representation of the output\n",
    "            for folder in range(batch_size): # iterate over the batch_size\n",
    "                imgs = os.listdir(source_path+'/'+ t[folder + (batch*batch_size)].split(';')[0]) # read all the images in the folder\n",
    "                for idx,item in enumerate(img_idx): #  Iterate iver the frames/images of a folder to read them in\n",
    "                    image = imageio.imread(source_path+'/'+ t[folder + (batch*batch_size)].strip().split(';')[0]+'/'+imgs[item]).astype(np.float32)\n",
    "                    \n",
    "                    #crop the images and resize them. Note that the images are of 2 different shape \n",
    "                    #and the conv3D will throw error if the inputs in a batch have different shapes\n",
    "                    \n",
    "                    resized_img=resize(image,(50,50))\n",
    "                    \n",
    "                    batch_data[folder,idx,:,:,0] = resized_img[:,:,0]/255 #normalise and feed in the image\n",
    "                    batch_data[folder,idx,:,:,1] = resized_img[:,:,1]/255 #normalise and feed in the image\n",
    "                    batch_data[folder,idx,:,:,2] = resized_img[:,:,2]/255 #normalise and feed in the image\n",
    "                    \n",
    "                batch_labels[folder, int(t[folder + (batch*batch_size)].strip().split(';')[2])] = 1\n",
    "            yield batch_data, batch_labels #you yield the batch_data and the batch_labels, remember what does yield do\n",
    "\n",
    "        \n",
    "        # write the code for the remaining data points which are left after full batches\n",
    "        seq_left = len(folder_list)%batch_size # To calculate the number of sequences left\n",
    "        batch=batch+1\n",
    "        batch_sizen=seq_left  #New batch size within this block will be left over sequence\n",
    "        if(seq_left!=0):\n",
    "            for batch in tf.range(batch_sizen):\n",
    "                batch_data = np.zeros((batch_sizen,x,50,50,3)) # x is the number of images you use for each video, (y,z) is the final size of the input images and 3 is the number of channels RGB\n",
    "                batch_labels = np.zeros((batch_sizen,5)) # batch_labels is the one hot representation of the output\n",
    "                for folder in range(batch_sizen): # iterate over the batch_size\n",
    "                    imgs = os.listdir(source_path+'/'+ t[folder + (batch*batch_sizen)].split(';')[0]) # read all the images in the folder\n",
    "                    for idx,item in enumerate(img_idx): #  Iterate iver the frames/images of a folder to read them in\n",
    "                        image = imageio.imread(source_path+'/'+ t[folder + (batch*batch_sizen)].strip().split(';')[0]+'/'+imgs[item]).astype(np.float32)\n",
    "\n",
    "                        #crop the images and resize them. Note that the images are of 2 different shape \n",
    "                        #and the conv3D will throw error if the inputs in a batch have different shapes\n",
    "\n",
    "                        resized_img = resize(image,(50,50))\n",
    "\n",
    "                        batch_data[folder,idx,:,:,0] = resized_img[:,:,0]/255\n",
    "                        batch_data[folder,idx,:,:,1] = resized_img[:,:,1]/255\n",
    "                        batch_data[folder,idx,:,:,2] = resized_img[:,:,2]/255\n",
    "                    \n",
    "                batch_labels[folder, int(t[folder + (batch*batch_sizen)].strip().split(';')[2])] = 1\n",
    "            yield batch_data, batch_labels"
   ]
  },
  {
   "cell_type": "markdown",
   "metadata": {},
   "source": [
    "Note here that a video is represented above in the generator as (number of images, height, width, number of channels). Take this into consideration while creating the model architecture."
   ]
  },
  {
   "cell_type": "code",
   "execution_count": 5,
   "metadata": {},
   "outputs": [
    {
     "name": "stdout",
     "output_type": "stream",
     "text": [
      "# training sequences = 663\n",
      "# validation sequences = 100\n",
      "# epochs = 50\n"
     ]
    }
   ],
   "source": [
    "curr_dt_time = datetime.datetime.now()\n",
    "train_path = 'D:/Project_data/train'\n",
    "val_path = 'D:/Project_data/val'\n",
    "num_train_sequences = len(train_doc)\n",
    "print('# training sequences =', num_train_sequences)\n",
    "num_val_sequences = len(val_doc)\n",
    "print('# validation sequences =', num_val_sequences)\n",
    "num_epochs = 50 # choose the number of epochs\n",
    "print ('# epochs =', num_epochs)\n",
    "num_classes=5"
   ]
  },
  {
   "cell_type": "markdown",
   "metadata": {},
   "source": [
    "## Model\n",
    "Here you make the model using different functionalities that Keras provides. Remember to use `Conv3D` and `MaxPooling3D` and not `Conv2D` and `Maxpooling2D` for a 3D convolution model. You would want to use `TimeDistributed` while building a Conv2D + RNN model. Also remember that the last layer is the softmax. Design the network in such a way that the model is able to give good accuracy on the least number of parameters so that it can fit in the memory of the webcam."
   ]
  },
  {
   "cell_type": "markdown",
   "metadata": {},
   "source": [
    "#### Model 1: Conv2D+RNN (GRU)"
   ]
  },
  {
   "cell_type": "code",
   "execution_count": 6,
   "metadata": {},
   "outputs": [],
   "source": [
    "from tensorflow.keras.models import Sequential, Model\n",
    "from tensorflow.keras.layers import Dense, GRU, Flatten, TimeDistributed, Flatten, BatchNormalization, Activation\n",
    "from tensorflow.keras.layers import Conv2D, MaxPooling2D, AveragePooling2D,Dropout\n",
    "from tensorflow.keras.callbacks import ModelCheckpoint, ReduceLROnPlateau\n",
    "from tensorflow.keras.regularizers import l2\n",
    "\n",
    "model = Sequential()\n",
    "\n",
    "model.add(TimeDistributed(tf.keras.layers.Conv2D(16,(2,2),padding='same'),input_shape=(15,50,50,3)))\n",
    "model.add(Activation('relu'))\n",
    "model.add(BatchNormalization())\n",
    "model.add(TimeDistributed(tf.keras.layers.Conv2D(16,(2,2),padding='same')))\n",
    "model.add(Activation('relu'))\n",
    "model.add(BatchNormalization())\n",
    "model.add(TimeDistributed(MaxPooling2D(pool_size=(2,2))))\n",
    "model.add(Dropout(0.2))\n",
    "\n",
    "model.add(TimeDistributed(tf.keras.layers.Conv2D(32,(2,2),padding='same')))\n",
    "model.add(Activation('relu'))\n",
    "model.add(BatchNormalization())\n",
    "model.add(TimeDistributed(tf.keras.layers.Conv2D(32,(2,2),padding='same')))\n",
    "model.add(Activation('relu'))\n",
    "model.add(BatchNormalization())\n",
    "model.add(TimeDistributed(MaxPooling2D(pool_size=(2,2))))\n",
    "model.add(Dropout(0.2))\n",
    "\n",
    "model.add(TimeDistributed(Flatten()))\n",
    "model.add(GRU(256, return_sequences=False,dropout=0.5))\n",
    "model.add(Dense(64,kernel_regularizer=l2(0.01)))\n",
    "model.add(Activation('relu'))\n",
    "model.add(Dropout(0.25))\n",
    "model.add(Dense(num_classes))\n",
    "model.add(Activation('softmax'))"
   ]
  },
  {
   "cell_type": "markdown",
   "metadata": {},
   "source": [
    "Now that you have written the model, the next step is to `compile` the model. When you print the `summary` of the model, you'll see the total number of parameters you have to train."
   ]
  },
  {
   "cell_type": "code",
   "execution_count": 7,
   "metadata": {
    "scrolled": true
   },
   "outputs": [
    {
     "name": "stdout",
     "output_type": "stream",
     "text": [
      "Model: \"sequential\"\n",
      "_________________________________________________________________\n",
      "Layer (type)                 Output Shape              Param #   \n",
      "=================================================================\n",
      "time_distributed (TimeDistri (None, 15, 50, 50, 16)    208       \n",
      "_________________________________________________________________\n",
      "activation (Activation)      (None, 15, 50, 50, 16)    0         \n",
      "_________________________________________________________________\n",
      "batch_normalization (BatchNo (None, 15, 50, 50, 16)    64        \n",
      "_________________________________________________________________\n",
      "time_distributed_1 (TimeDist (None, 15, 50, 50, 16)    1040      \n",
      "_________________________________________________________________\n",
      "activation_1 (Activation)    (None, 15, 50, 50, 16)    0         \n",
      "_________________________________________________________________\n",
      "batch_normalization_1 (Batch (None, 15, 50, 50, 16)    64        \n",
      "_________________________________________________________________\n",
      "time_distributed_2 (TimeDist (None, 15, 25, 25, 16)    0         \n",
      "_________________________________________________________________\n",
      "dropout (Dropout)            (None, 15, 25, 25, 16)    0         \n",
      "_________________________________________________________________\n",
      "time_distributed_3 (TimeDist (None, 15, 25, 25, 32)    2080      \n",
      "_________________________________________________________________\n",
      "activation_2 (Activation)    (None, 15, 25, 25, 32)    0         \n",
      "_________________________________________________________________\n",
      "batch_normalization_2 (Batch (None, 15, 25, 25, 32)    128       \n",
      "_________________________________________________________________\n",
      "time_distributed_4 (TimeDist (None, 15, 25, 25, 32)    4128      \n",
      "_________________________________________________________________\n",
      "activation_3 (Activation)    (None, 15, 25, 25, 32)    0         \n",
      "_________________________________________________________________\n",
      "batch_normalization_3 (Batch (None, 15, 25, 25, 32)    128       \n",
      "_________________________________________________________________\n",
      "time_distributed_5 (TimeDist (None, 15, 12, 12, 32)    0         \n",
      "_________________________________________________________________\n",
      "dropout_1 (Dropout)          (None, 15, 12, 12, 32)    0         \n",
      "_________________________________________________________________\n",
      "time_distributed_6 (TimeDist (None, 15, 4608)          0         \n",
      "_________________________________________________________________\n",
      "gru (GRU)                    (None, 256)               3737088   \n",
      "_________________________________________________________________\n",
      "dense (Dense)                (None, 64)                16448     \n",
      "_________________________________________________________________\n",
      "activation_4 (Activation)    (None, 64)                0         \n",
      "_________________________________________________________________\n",
      "dropout_2 (Dropout)          (None, 64)                0         \n",
      "_________________________________________________________________\n",
      "dense_1 (Dense)              (None, 5)                 325       \n",
      "_________________________________________________________________\n",
      "activation_5 (Activation)    (None, 5)                 0         \n",
      "=================================================================\n",
      "Total params: 3,761,701\n",
      "Trainable params: 3,761,509\n",
      "Non-trainable params: 192\n",
      "_________________________________________________________________\n",
      "None\n"
     ]
    }
   ],
   "source": [
    "optimiser = tf.keras.optimizers.Adam()\n",
    "model.compile(optimizer=optimiser, loss='categorical_crossentropy', metrics=['categorical_accuracy'])\n",
    "print (model.summary())"
   ]
  },
  {
   "cell_type": "markdown",
   "metadata": {},
   "source": [
    "Let us create the `train_generator` and the `val_generator` which will be used in `.fit_generator`."
   ]
  },
  {
   "cell_type": "code",
   "execution_count": 8,
   "metadata": {},
   "outputs": [],
   "source": [
    "train_generator = generator(train_path, train_doc, batch_size)\n",
    "val_generator = generator(val_path, val_doc, batch_size)"
   ]
  },
  {
   "cell_type": "code",
   "execution_count": 9,
   "metadata": {},
   "outputs": [
    {
     "name": "stdout",
     "output_type": "stream",
     "text": [
      "WARNING:tensorflow:`period` argument is deprecated. Please use `save_freq` to specify the frequency in number of samples seen.\n"
     ]
    }
   ],
   "source": [
    "model_name = 'model_init' + '_' + str(curr_dt_time).replace(' ','').replace(':','_') + '/'\n",
    "    \n",
    "if not os.path.exists(model_name):\n",
    "    os.mkdir(model_name)\n",
    "        \n",
    "filepath = model_name + 'model-{epoch:05d}-{loss:.5f}-{categorical_accuracy:.5f}-{val_loss:.5f}-{val_categorical_accuracy:.5f}.h5'\n",
    "\n",
    "checkpoint = ModelCheckpoint(filepath, monitor='val_loss', verbose=1, save_best_only=False, save_weights_only=False, mode='auto', period=1)\n",
    "\n",
    "LR = ReduceLROnPlateau(monitor='val_loss', factor=0.2,patience=5, min_lr=0.001)\n",
    "\n",
    "callbacks_list = [checkpoint, LR]"
   ]
  },
  {
   "cell_type": "markdown",
   "metadata": {},
   "source": [
    "The `steps_per_epoch` and `validation_steps` are used by `fit_generator` to decide the number of next() calls it need to make."
   ]
  },
  {
   "cell_type": "code",
   "execution_count": 10,
   "metadata": {},
   "outputs": [],
   "source": [
    "if (num_train_sequences%batch_size) == 0:\n",
    "    steps_per_epoch = int(num_train_sequences/batch_size)\n",
    "else:\n",
    "    steps_per_epoch = (num_train_sequences//batch_size) + 1\n",
    "\n",
    "if (num_val_sequences%batch_size) == 0:\n",
    "    validation_steps = int(num_val_sequences/batch_size)\n",
    "else:\n",
    "    validation_steps = (num_val_sequences//batch_size) + 1"
   ]
  },
  {
   "cell_type": "markdown",
   "metadata": {},
   "source": [
    "Let us now fit the model. This will start training the model and with the help of the checkpoints, you'll be able to save the model at the end of each epoch."
   ]
  },
  {
   "cell_type": "markdown",
   "metadata": {},
   "source": [
    "#### `Final Model`: Epochs=50, Batch Size=32, Image Size=(50,50,3), Number of Images from a Sequence =15\n",
    "Total params: 3,761,701 | Trainable params: 3,761,509 | Non-trainable params: 192"
   ]
  },
  {
   "cell_type": "code",
   "execution_count": 11,
   "metadata": {},
   "outputs": [
    {
     "name": "stdout",
     "output_type": "stream",
     "text": [
      "Source path =  D:/Project_data/train ; batch size = 32\n",
      "Source path =  D:/Project_data/val ; batch size = 32\n",
      "Train for 21 steps, validate for 4 steps\n",
      "Epoch 1/50\n",
      "20/21 [===========================>..] - ETA: 10s - loss: 2.5105 - categorical_accuracy: 0.3500\n",
      "Epoch 00001: saving model to model_init_2022-03-0219_44_06.527897/model-00001-2.45768-0.33937-2.38506-0.20000.h5\n",
      "21/21 [==============================] - 294s 14s/step - loss: 2.4389 - categorical_accuracy: 0.3394 - val_loss: 2.3851 - val_categorical_accuracy: 0.2000\n",
      "Epoch 2/50\n",
      "20/21 [===========================>..] - ETA: 3s - loss: 2.0409 - categorical_accuracy: 0.5359\n",
      "Epoch 00002: saving model to model_init_2022-03-0219_44_06.527897/model-00002-2.00008-0.52640-4.01746-0.14844.h5\n",
      "21/21 [==============================] - 136s 6s/step - loss: 1.9856 - categorical_accuracy: 0.5264 - val_loss: 4.0175 - val_categorical_accuracy: 0.1484\n",
      "Epoch 3/50\n",
      "20/21 [===========================>..] - ETA: 3s - loss: 1.6512 - categorical_accuracy: 0.6922\n",
      "Epoch 00003: saving model to model_init_2022-03-0219_44_06.527897/model-00003-1.62044-0.67270-3.63297-0.13000.h5\n",
      "21/21 [==============================] - 126s 6s/step - loss: 1.6095 - categorical_accuracy: 0.6727 - val_loss: 3.6330 - val_categorical_accuracy: 0.1300\n",
      "Epoch 4/50\n",
      "20/21 [===========================>..] - ETA: 3s - loss: 1.4232 - categorical_accuracy: 0.7516\n",
      "Epoch 00004: saving model to model_init_2022-03-0219_44_06.527897/model-00004-1.40105-0.73454-3.64710-0.18000.h5\n",
      "21/21 [==============================] - 125s 6s/step - loss: 1.3932 - categorical_accuracy: 0.7345 - val_loss: 3.6471 - val_categorical_accuracy: 0.1800\n",
      "Epoch 5/50\n",
      "20/21 [===========================>..] - ETA: 3s - loss: 1.2318 - categorical_accuracy: 0.7891\n",
      "Epoch 00005: saving model to model_init_2022-03-0219_44_06.527897/model-00005-1.21211-0.77074-3.60294-0.14000.h5\n",
      "21/21 [==============================] - 131s 6s/step - loss: 1.2051 - categorical_accuracy: 0.7707 - val_loss: 3.6029 - val_categorical_accuracy: 0.1400\n",
      "Epoch 6/50\n",
      "20/21 [===========================>..] - ETA: 3s - loss: 1.0969 - categorical_accuracy: 0.8328\n",
      "Epoch 00006: saving model to model_init_2022-03-0219_44_06.527897/model-00006-1.07896-0.82051-3.88943-0.20312.h5\n",
      "21/21 [==============================] - 129s 6s/step - loss: 1.0726 - categorical_accuracy: 0.8205 - val_loss: 3.8894 - val_categorical_accuracy: 0.2031\n",
      "Epoch 7/50\n",
      "20/21 [===========================>..] - ETA: 3s - loss: 0.9784 - categorical_accuracy: 0.8656\n",
      "Epoch 00007: saving model to model_init_2022-03-0219_44_06.527897/model-00007-0.96308-0.84465-3.72757-0.19000.h5\n",
      "21/21 [==============================] - 123s 6s/step - loss: 0.9576 - categorical_accuracy: 0.8446 - val_loss: 3.7276 - val_categorical_accuracy: 0.1900\n",
      "Epoch 8/50\n",
      "20/21 [===========================>..] - ETA: 3s - loss: 0.8586 - categorical_accuracy: 0.8953\n",
      "Epoch 00008: saving model to model_init_2022-03-0219_44_06.527897/model-00008-0.84632-0.87783-3.02940-0.31000.h5\n",
      "21/21 [==============================] - 122s 6s/step - loss: 0.8420 - categorical_accuracy: 0.8778 - val_loss: 3.0294 - val_categorical_accuracy: 0.3100\n",
      "Epoch 9/50\n",
      "20/21 [===========================>..] - ETA: 3s - loss: 0.7751 - categorical_accuracy: 0.9062\n",
      "Epoch 00009: saving model to model_init_2022-03-0219_44_06.527897/model-00009-0.76463-0.88386-2.80141-0.33000.h5\n",
      "21/21 [==============================] - 125s 6s/step - loss: 0.7609 - categorical_accuracy: 0.8839 - val_loss: 2.8014 - val_categorical_accuracy: 0.3300\n",
      "Epoch 10/50\n",
      "20/21 [===========================>..] - ETA: 3s - loss: 0.7301 - categorical_accuracy: 0.9094\n",
      "Epoch 00010: saving model to model_init_2022-03-0219_44_06.527897/model-00010-0.72010-0.88537-3.33309-0.25000.h5\n",
      "21/21 [==============================] - 123s 6s/step - loss: 0.7165 - categorical_accuracy: 0.8854 - val_loss: 3.3331 - val_categorical_accuracy: 0.2500\n",
      "Epoch 11/50\n",
      "20/21 [===========================>..] - ETA: 3s - loss: 0.6870 - categorical_accuracy: 0.9391\n",
      "Epoch 00011: saving model to model_init_2022-03-0219_44_06.527897/model-00011-0.67740-0.91554-2.79813-0.20000.h5\n",
      "21/21 [==============================] - 126s 6s/step - loss: 0.6740 - categorical_accuracy: 0.9155 - val_loss: 2.7981 - val_categorical_accuracy: 0.2000\n",
      "Epoch 12/50\n",
      "20/21 [===========================>..] - ETA: 3s - loss: 0.5774 - categorical_accuracy: 0.9547\n",
      "Epoch 00012: saving model to model_init_2022-03-0219_44_06.527897/model-00012-0.57082-0.93363-2.30266-0.30000.h5\n",
      "21/21 [==============================] - 124s 6s/step - loss: 0.5685 - categorical_accuracy: 0.9336 - val_loss: 2.3027 - val_categorical_accuracy: 0.3000\n",
      "Epoch 13/50\n",
      "20/21 [===========================>..] - ETA: 3s - loss: 0.5662 - categorical_accuracy: 0.9500\n",
      "Epoch 00013: saving model to model_init_2022-03-0219_44_06.527897/model-00013-0.55946-0.92609-2.48748-0.34000.h5\n",
      "21/21 [==============================] - 124s 6s/step - loss: 0.5571 - categorical_accuracy: 0.9261 - val_loss: 2.4875 - val_categorical_accuracy: 0.3400\n",
      "Epoch 14/50\n",
      "20/21 [===========================>..] - ETA: 3s - loss: 0.5165 - categorical_accuracy: 0.9641\n",
      "Epoch 00014: saving model to model_init_2022-03-0219_44_06.527897/model-00014-0.51079-0.94118-2.89297-0.29688.h5\n",
      "21/21 [==============================] - 125s 6s/step - loss: 0.5088 - categorical_accuracy: 0.9412 - val_loss: 2.8930 - val_categorical_accuracy: 0.2969\n",
      "Epoch 15/50\n",
      "20/21 [===========================>..] - ETA: 3s - loss: 0.4993 - categorical_accuracy: 0.9688\n",
      "Epoch 00015: saving model to model_init_2022-03-0219_44_06.527897/model-00015-0.49356-0.94419-2.57963-0.42000.h5\n",
      "21/21 [==============================] - 123s 6s/step - loss: 0.4915 - categorical_accuracy: 0.9442 - val_loss: 2.5796 - val_categorical_accuracy: 0.4200\n",
      "Epoch 16/50\n",
      "20/21 [===========================>..] - ETA: 3s - loss: 0.5039 - categorical_accuracy: 0.9531\n",
      "Epoch 00016: saving model to model_init_2022-03-0219_44_06.527897/model-00016-0.49764-0.93213-2.36146-0.46000.h5\n",
      "21/21 [==============================] - 123s 6s/step - loss: 0.4954 - categorical_accuracy: 0.9321 - val_loss: 2.3615 - val_categorical_accuracy: 0.4600\n",
      "Epoch 17/50\n",
      "20/21 [===========================>..] - ETA: 3s - loss: 0.5192 - categorical_accuracy: 0.9453\n",
      "Epoch 00017: saving model to model_init_2022-03-0219_44_06.527897/model-00017-0.51198-0.92006-2.34775-0.25000.h5\n",
      "21/21 [==============================] - 124s 6s/step - loss: 0.5094 - categorical_accuracy: 0.9201 - val_loss: 2.3478 - val_categorical_accuracy: 0.2500\n",
      "Epoch 18/50\n",
      "20/21 [===========================>..] - ETA: 3s - loss: 0.4775 - categorical_accuracy: 0.9484\n",
      "Epoch 00018: saving model to model_init_2022-03-0219_44_06.527897/model-00018-0.47232-0.92308-2.64643-0.39844.h5\n",
      "21/21 [==============================] - 124s 6s/step - loss: 0.4705 - categorical_accuracy: 0.9231 - val_loss: 2.6464 - val_categorical_accuracy: 0.3984\n",
      "Epoch 19/50\n",
      "20/21 [===========================>..] - ETA: 3s - loss: 0.4638 - categorical_accuracy: 0.9516\n",
      "Epoch 00019: saving model to model_init_2022-03-0219_44_06.527897/model-00019-0.45965-0.92609-2.19598-0.37000.h5\n",
      "21/21 [==============================] - 122s 6s/step - loss: 0.4582 - categorical_accuracy: 0.9261 - val_loss: 2.1960 - val_categorical_accuracy: 0.3700\n",
      "Epoch 20/50\n",
      "20/21 [===========================>..] - ETA: 3s - loss: 0.4818 - categorical_accuracy: 0.9375\n",
      "Epoch 00020: saving model to model_init_2022-03-0219_44_06.527897/model-00020-0.47576-0.90950-2.13610-0.47000.h5\n",
      "21/21 [==============================] - 122s 6s/step - loss: 0.4736 - categorical_accuracy: 0.9095 - val_loss: 2.1361 - val_categorical_accuracy: 0.4700\n",
      "Epoch 21/50\n",
      "20/21 [===========================>..] - ETA: 3s - loss: 0.4876 - categorical_accuracy: 0.9359\n",
      "Epoch 00021: saving model to model_init_2022-03-0219_44_06.527897/model-00021-0.48081-0.91704-1.95630-0.46000.h5\n",
      "21/21 [==============================] - 122s 6s/step - loss: 0.4784 - categorical_accuracy: 0.9170 - val_loss: 1.9563 - val_categorical_accuracy: 0.4600\n",
      "Epoch 22/50\n",
      "20/21 [===========================>..] - ETA: 3s - loss: 0.5028 - categorical_accuracy: 0.9172\n",
      "Epoch 00022: saving model to model_init_2022-03-0219_44_06.527897/model-00022-0.49646-0.89140-2.39890-0.42188.h5\n",
      "21/21 [==============================] - 123s 6s/step - loss: 0.4942 - categorical_accuracy: 0.8914 - val_loss: 2.3989 - val_categorical_accuracy: 0.4219\n"
     ]
    },
    {
     "name": "stdout",
     "output_type": "stream",
     "text": [
      "Epoch 23/50\n",
      "20/21 [===========================>..] - ETA: 3s - loss: 0.5098 - categorical_accuracy: 0.9125\n",
      "Epoch 00023: saving model to model_init_2022-03-0219_44_06.527897/model-00023-0.50216-0.88989-1.32480-0.65000.h5\n",
      "21/21 [==============================] - 124s 6s/step - loss: 0.4994 - categorical_accuracy: 0.8899 - val_loss: 1.3248 - val_categorical_accuracy: 0.6500\n",
      "Epoch 24/50\n",
      "20/21 [===========================>..] - ETA: 3s - loss: 0.5010 - categorical_accuracy: 0.9234\n",
      "Epoch 00024: saving model to model_init_2022-03-0219_44_06.527897/model-00024-0.49374-0.90196-1.46826-0.53000.h5\n",
      "21/21 [==============================] - 126s 6s/step - loss: 0.4911 - categorical_accuracy: 0.9020 - val_loss: 1.4683 - val_categorical_accuracy: 0.5300\n",
      "Epoch 25/50\n",
      "20/21 [===========================>..] - ETA: 3s - loss: 0.4865 - categorical_accuracy: 0.9297\n",
      "Epoch 00025: saving model to model_init_2022-03-0219_44_06.527897/model-00025-0.48022-0.90045-1.21458-0.68000.h5\n",
      "21/21 [==============================] - 122s 6s/step - loss: 0.4780 - categorical_accuracy: 0.9005 - val_loss: 1.2146 - val_categorical_accuracy: 0.6800\n",
      "Epoch 26/50\n",
      "20/21 [===========================>..] - ETA: 3s - loss: 0.5324 - categorical_accuracy: 0.9250\n",
      "Epoch 00026: saving model to model_init_2022-03-0219_44_06.527897/model-00026-0.52418-0.90045-1.03092-0.75000.h5\n",
      "21/21 [==============================] - 126s 6s/step - loss: 0.5213 - categorical_accuracy: 0.9005 - val_loss: 1.0309 - val_categorical_accuracy: 0.7500\n",
      "Epoch 27/50\n",
      "20/21 [===========================>..] - ETA: 11s - loss: 0.4942 - categorical_accuracy: 0.9250\n",
      "Epoch 00027: saving model to model_init_2022-03-0219_44_06.527897/model-00027-0.48755-0.91101-0.93781-0.68000.h5\n",
      "21/21 [==============================] - 325s 15s/step - loss: 0.4852 - categorical_accuracy: 0.9110 - val_loss: 0.9378 - val_categorical_accuracy: 0.6800\n",
      "Epoch 28/50\n",
      "20/21 [===========================>..] - ETA: 3s - loss: 0.6277 - categorical_accuracy: 0.8906\n",
      "Epoch 00028: saving model to model_init_2022-03-0219_44_06.527897/model-00028-0.61694-0.87029-0.90226-0.75000.h5\n",
      "21/21 [==============================] - 137s 7s/step - loss: 0.6131 - categorical_accuracy: 0.8703 - val_loss: 0.9023 - val_categorical_accuracy: 0.7500\n",
      "Epoch 29/50\n",
      "20/21 [===========================>..] - ETA: 3s - loss: 0.5193 - categorical_accuracy: 0.9266\n",
      "Epoch 00029: saving model to model_init_2022-03-0219_44_06.527897/model-00029-0.51353-0.90196-1.24427-0.77000.h5\n",
      "21/21 [==============================] - 125s 6s/step - loss: 0.5115 - categorical_accuracy: 0.9020 - val_loss: 1.2443 - val_categorical_accuracy: 0.7700\n",
      "Epoch 30/50\n",
      "20/21 [===========================>..] - ETA: 3s - loss: 0.6714 - categorical_accuracy: 0.8844\n",
      "Epoch 00030: saving model to model_init_2022-03-0219_44_06.527897/model-00030-0.65974-0.85973-1.41519-0.72656.h5\n",
      "21/21 [==============================] - 126s 6s/step - loss: 0.6556 - categorical_accuracy: 0.8597 - val_loss: 1.4152 - val_categorical_accuracy: 0.7266\n",
      "Epoch 31/50\n",
      "20/21 [===========================>..] - ETA: 3s - loss: 0.6619 - categorical_accuracy: 0.8938\n",
      "Epoch 00031: saving model to model_init_2022-03-0219_44_06.527897/model-00031-0.65250-0.86727-0.92398-0.75000.h5\n",
      "21/21 [==============================] - 124s 6s/step - loss: 0.6492 - categorical_accuracy: 0.8673 - val_loss: 0.9240 - val_categorical_accuracy: 0.7500\n",
      "Epoch 32/50\n",
      "20/21 [===========================>..] - ETA: 3s - loss: 0.6538 - categorical_accuracy: 0.8953\n",
      "Epoch 00032: saving model to model_init_2022-03-0219_44_06.527897/model-00032-0.64389-0.86878-0.95922-0.74000.h5\n",
      "21/21 [==============================] - 123s 6s/step - loss: 0.6404 - categorical_accuracy: 0.8688 - val_loss: 0.9592 - val_categorical_accuracy: 0.7400\n",
      "Epoch 33/50\n",
      "20/21 [===========================>..] - ETA: 3s - loss: 0.7171 - categorical_accuracy: 0.8828\n",
      "Epoch 00033: saving model to model_init_2022-03-0219_44_06.527897/model-00033-0.70655-0.85671-0.92823-0.76000.h5\n",
      "21/21 [==============================] - 124s 6s/step - loss: 0.7028 - categorical_accuracy: 0.8567 - val_loss: 0.9282 - val_categorical_accuracy: 0.7600\n",
      "Epoch 34/50\n",
      "20/21 [===========================>..] - ETA: 3s - loss: 0.7855 - categorical_accuracy: 0.8750\n",
      "Epoch 00034: saving model to model_init_2022-03-0219_44_06.527897/model-00034-0.77244-0.84917-0.92552-0.87500.h5\n",
      "21/21 [==============================] - 125s 6s/step - loss: 0.7678 - categorical_accuracy: 0.8492 - val_loss: 0.9255 - val_categorical_accuracy: 0.8750\n",
      "Epoch 35/50\n",
      "20/21 [===========================>..] - ETA: 3s - loss: 0.7259 - categorical_accuracy: 0.8875\n",
      "Epoch 00035: saving model to model_init_2022-03-0219_44_06.527897/model-00035-0.71563-0.86124-0.94961-0.78000.h5\n",
      "21/21 [==============================] - 126s 6s/step - loss: 0.7120 - categorical_accuracy: 0.8612 - val_loss: 0.9496 - val_categorical_accuracy: 0.7800\n",
      "Epoch 36/50\n",
      "20/21 [===========================>..] - ETA: 3s - loss: 0.7688 - categorical_accuracy: 0.8859\n",
      "Epoch 00036: saving model to model_init_2022-03-0219_44_06.527897/model-00036-0.75795-0.86425-0.93423-0.79000.h5\n",
      "21/21 [==============================] - 122s 6s/step - loss: 0.7541 - categorical_accuracy: 0.8643 - val_loss: 0.9342 - val_categorical_accuracy: 0.7900\n",
      "Epoch 37/50\n",
      "20/21 [===========================>..] - ETA: 3s - loss: 0.7846 - categorical_accuracy: 0.8984\n",
      "Epoch 00037: saving model to model_init_2022-03-0219_44_06.527897/model-00037-0.77414-0.87330-1.08724-0.80000.h5\n",
      "21/21 [==============================] - 124s 6s/step - loss: 0.7704 - categorical_accuracy: 0.8733 - val_loss: 1.0872 - val_categorical_accuracy: 0.8000\n",
      "Epoch 38/50\n",
      "20/21 [===========================>..] - ETA: 3s - loss: 0.8984 - categorical_accuracy: 0.8766\n",
      "Epoch 00038: saving model to model_init_2022-03-0219_44_06.527897/model-00038-0.88498-0.85520-0.96503-0.84375.h5\n",
      "21/21 [==============================] - 125s 6s/step - loss: 0.8802 - categorical_accuracy: 0.8552 - val_loss: 0.9650 - val_categorical_accuracy: 0.8438\n",
      "Epoch 39/50\n",
      "20/21 [===========================>..] - ETA: 3s - loss: 0.9774 - categorical_accuracy: 0.8609\n",
      "Epoch 00039: saving model to model_init_2022-03-0219_44_06.527897/model-00039-0.96235-0.84012-1.42331-0.66000.h5\n",
      "21/21 [==============================] - 124s 6s/step - loss: 0.9570 - categorical_accuracy: 0.8401 - val_loss: 1.4233 - val_categorical_accuracy: 0.6600\n",
      "Epoch 40/50\n",
      "20/21 [===========================>..] - ETA: 3s - loss: 0.9605 - categorical_accuracy: 0.8734\n",
      "Epoch 00040: saving model to model_init_2022-03-0219_44_06.527897/model-00040-0.94728-0.84917-1.52123-0.75000.h5\n",
      "21/21 [==============================] - 125s 6s/step - loss: 0.9426 - categorical_accuracy: 0.8492 - val_loss: 1.5212 - val_categorical_accuracy: 0.7500\n",
      "Epoch 41/50\n",
      "20/21 [===========================>..] - ETA: 14s - loss: 1.1337 - categorical_accuracy: 0.8547\n",
      "Epoch 00041: saving model to model_init_2022-03-0219_44_06.527897/model-00041-1.11921-0.83107-1.17237-0.87000.h5\n",
      "21/21 [==============================] - 371s 18s/step - loss: 1.1141 - categorical_accuracy: 0.8311 - val_loss: 1.1724 - val_categorical_accuracy: 0.8700\n",
      "Epoch 42/50\n",
      "20/21 [===========================>..] - ETA: 3s - loss: 1.0170 - categorical_accuracy: 0.8844\n",
      "Epoch 00042: saving model to model_init_2022-03-0219_44_06.527897/model-00042-1.00426-0.86425-1.34788-0.79688.h5\n",
      "21/21 [==============================] - 135s 6s/step - loss: 0.9997 - categorical_accuracy: 0.8643 - val_loss: 1.3479 - val_categorical_accuracy: 0.7969\n",
      "Epoch 43/50\n",
      "20/21 [===========================>..] - ETA: 3s - loss: 1.2395 - categorical_accuracy: 0.8422\n",
      "Epoch 00043: saving model to model_init_2022-03-0219_44_06.527897/model-00043-1.22055-0.81750-1.18960-0.78000.h5\n",
      "21/21 [==============================] - 126s 6s/step - loss: 1.2138 - categorical_accuracy: 0.8175 - val_loss: 1.1896 - val_categorical_accuracy: 0.7800\n",
      "Epoch 44/50\n",
      "20/21 [===========================>..] - ETA: 3s - loss: 1.1553 - categorical_accuracy: 0.8781\n",
      "Epoch 00044: saving model to model_init_2022-03-0219_44_06.527897/model-00044-1.14058-0.85671-1.16201-0.80000.h5\n",
      "21/21 [==============================] - 128s 6s/step - loss: 1.1354 - categorical_accuracy: 0.8567 - val_loss: 1.1620 - val_categorical_accuracy: 0.8000\n"
     ]
    },
    {
     "name": "stdout",
     "output_type": "stream",
     "text": [
      "Epoch 45/50\n",
      "20/21 [===========================>..] - ETA: 3s - loss: 1.1980 - categorical_accuracy: 0.8781\n",
      "Epoch 00045: saving model to model_init_2022-03-0219_44_06.527897/model-00045-1.18333-0.85370-1.09182-0.85000.h5\n",
      "21/21 [==============================] - 127s 6s/step - loss: 1.1781 - categorical_accuracy: 0.8537 - val_loss: 1.0918 - val_categorical_accuracy: 0.8500\n",
      "Epoch 46/50\n",
      "20/21 [===========================>..] - ETA: 3s - loss: 1.2667 - categorical_accuracy: 0.8609\n",
      "Epoch 00046: saving model to model_init_2022-03-0219_44_06.527897/model-00046-1.25126-0.83861-1.28103-0.83594.h5\n",
      "21/21 [==============================] - 129s 6s/step - loss: 1.2458 - categorical_accuracy: 0.8386 - val_loss: 1.2810 - val_categorical_accuracy: 0.8359\n",
      "Epoch 47/50\n",
      "20/21 [===========================>..] - ETA: 3s - loss: 1.3097 - categorical_accuracy: 0.8516\n",
      "Epoch 00047: saving model to model_init_2022-03-0219_44_06.527897/model-00047-1.29702-0.82655-1.70828-0.74000.h5\n",
      "21/21 [==============================] - 127s 6s/step - loss: 1.2925 - categorical_accuracy: 0.8265 - val_loss: 1.7083 - val_categorical_accuracy: 0.7400\n",
      "Epoch 48/50\n",
      "20/21 [===========================>..] - ETA: 3s - loss: 1.3594 - categorical_accuracy: 0.8656\n",
      "Epoch 00048: saving model to model_init_2022-03-0219_44_06.527897/model-00048-1.34418-0.84314-1.76978-0.69000.h5\n",
      "21/21 [==============================] - 125s 6s/step - loss: 1.3388 - categorical_accuracy: 0.8431 - val_loss: 1.7698 - val_categorical_accuracy: 0.6900\n",
      "Epoch 49/50\n",
      "20/21 [===========================>..] - ETA: 3s - loss: 1.6561 - categorical_accuracy: 0.8078\n",
      "Epoch 00049: saving model to model_init_2022-03-0219_44_06.527897/model-00049-1.63555-0.78733-1.85308-0.70000.h5\n",
      "21/21 [==============================] - 128s 6s/step - loss: 1.6282 - categorical_accuracy: 0.7873 - val_loss: 1.8531 - val_categorical_accuracy: 0.7000\n",
      "Epoch 50/50\n",
      "20/21 [===========================>..] - ETA: 3s - loss: 1.5159 - categorical_accuracy: 0.8562\n",
      "Epoch 00050: saving model to model_init_2022-03-0219_44_06.527897/model-00050-1.49930-0.84012-2.89257-0.61719.h5\n",
      "21/21 [==============================] - 129s 6s/step - loss: 1.4934 - categorical_accuracy: 0.8401 - val_loss: 2.8926 - val_categorical_accuracy: 0.6172\n"
     ]
    }
   ],
   "source": [
    "history=model.fit(train_generator, steps_per_epoch=steps_per_epoch, epochs=num_epochs, verbose=1, \n",
    "                    callbacks=callbacks_list, validation_data=val_generator, \n",
    "                    validation_steps=validation_steps, class_weight=None, workers=1, initial_epoch=0)"
   ]
  },
  {
   "cell_type": "code",
   "execution_count": 12,
   "metadata": {},
   "outputs": [
    {
     "data": {
      "image/png": "[encoded data removed]",
      "text/plain": [
       "<Figure size 576x576 with 2 Axes>"
      ]
     },
     "metadata": {
      "needs_background": "light"
     },
     "output_type": "display_data"
    }
   ],
   "source": [
    "acc = history.history['categorical_accuracy']\n",
    "val_acc = history.history['val_categorical_accuracy']\n",
    "\n",
    "loss = history.history['loss']\n",
    "val_loss = history.history['val_loss']\n",
    "\n",
    "epochs_range = range(num_epochs)\n",
    "\n",
    "plt.figure(figsize=(8, 8))\n",
    "plt.subplot(1, 2, 1)\n",
    "plt.plot(epochs_range, acc, label='Training Accuracy')\n",
    "plt.plot(epochs_range, val_acc, label='Validation Accuracy')\n",
    "plt.legend(loc='lower right')\n",
    "plt.title('Training and Validation Accuracy')\n",
    "\n",
    "plt.subplot(1, 2, 2)\n",
    "plt.plot(epochs_range, loss, label='Training Loss')\n",
    "plt.plot(epochs_range, val_loss, label='Validation Loss')\n",
    "plt.legend(loc='upper right')\n",
    "plt.title('Training and Validation Loss')\n",
    "plt.show()"
   ]
  },
  {
   "cell_type": "code",
   "execution_count": 13,
   "metadata": {},
   "outputs": [
    {
     "name": "stdout",
     "output_type": "stream",
     "text": [
      "Training Accuracy 0.94419307 Validation Accuracy 0.875\n"
     ]
    }
   ],
   "source": [
    "print(\"Training Accuracy\", max(history.history['categorical_accuracy']), \"Validation Accuracy\",max(history.history['val_categorical_accuracy']))"
   ]
  }
 ],
 "metadata": {
  "kernelspec": {
   "display_name": "Python 3",
   "language": "python",
   "name": "python3"
  },
  "language_info": {
   "codemirror_mode": {
    "name": "ipython",
    "version": 3
   },
   "file_extension": ".py",
   "mimetype": "text/x-python",
   "name": "python",
   "nbconvert_exporter": "python",
   "pygments_lexer": "ipython3",
   "version": "3.6.13"
  }
 },
 "nbformat": 4,
 "nbformat_minor": 4
}
